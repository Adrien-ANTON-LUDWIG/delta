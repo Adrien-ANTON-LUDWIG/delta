{
 "cells": [
  {
   "cell_type": "code",
   "execution_count": null,
   "metadata": {},
   "outputs": [],
   "source": [
    "import pandas as pd\n",
    "import numpy as np\n",
    "import datetime as dt"
   ]
  },
  {
   "cell_type": "code",
   "execution_count": null,
   "metadata": {},
   "outputs": [],
   "source": [
    "def summary(df):\n",
    "    print(df.shape)\n",
    "    return df.head(10)"
   ]
  },
  {
   "cell_type": "code",
   "execution_count": null,
   "metadata": {},
   "outputs": [],
   "source": [
    "education_df = pd.read_csv('./data/education.csv')\n",
    "summary(education_df)"
   ]
  },
  {
   "cell_type": "code",
   "execution_count": null,
   "metadata": {},
   "outputs": [],
   "source": [
    "attendance_zip = education_df.groupby('zip', as_index=False).mean()\n",
    "summary(attendance_zip)"
   ]
  },
  {
   "cell_type": "code",
   "execution_count": null,
   "metadata": {},
   "outputs": [],
   "source": [
    "import plotly.express as px\n",
    "import json\n",
    "\n",
    "zip_codes = json.load(open('data/zip_codes.geojson'))\n",
    "\n",
    "fig = px.choropleth_mapbox(attendance_zip, geojson=zip_codes, \n",
    "                           locations='zip', featureidkey = 'properties.zip',\n",
    "                           color='attendance', color_continuous_scale=['red', 'green'],\n",
    "                           mapbox_style=\"carto-positron\",\n",
    "                           zoom=9, center = {\"lat\": 41.8375, \"lon\": -87.5440}, # Chicago : 41° 52′ 55″ N, 87° 34′ 40″ O\n",
    "                           opacity=0.5,\n",
    "                           labels={'attendance':'Student average attendance (%)'}\n",
    "                          )\n",
    "fig.update_layout(margin={\"r\":0,\"t\":0,\"l\":0,\"b\":0})\n",
    "fig"
   ]
  },
  {
   "cell_type": "code",
   "execution_count": null,
   "metadata": {},
   "outputs": [],
   "source": []
  }
 ],
 "metadata": {
  "kernelspec": {
   "display_name": "Python 3 (ipykernel)",
   "language": "python",
   "name": "python3"
  },
  "language_info": {
   "codemirror_mode": {
    "name": "ipython",
    "version": 3
   },
   "file_extension": ".py",
   "mimetype": "text/x-python",
   "name": "python",
   "nbconvert_exporter": "python",
   "pygments_lexer": "ipython3",
   "version": "3.8.10"
  },
  "nbTranslate": {
   "displayLangs": [
    "en",
    "fr"
   ],
   "hotkey": "alt-t",
   "langInMainMenu": true,
   "sourceLang": "fr",
   "targetLang": "en",
   "useGoogleTranslate": true
  }
 },
 "nbformat": 4,
 "nbformat_minor": 2
}
